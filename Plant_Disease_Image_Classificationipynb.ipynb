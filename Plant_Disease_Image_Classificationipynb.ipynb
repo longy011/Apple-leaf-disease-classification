{
  "nbformat": 4,
  "nbformat_minor": 0,
  "metadata": {
    "colab": {
      "name": "Plant Disease Image Classificationipynb",
      "provenance": [],
      "collapsed_sections": []
    },
    "kernelspec": {
      "name": "python3",
      "display_name": "Python 3"
    },
    "language_info": {
      "name": "python"
    },
    "accelerator": "GPU"
  },
  "cells": [
    {
      "cell_type": "markdown",
      "source": [
        "<h1>New plant disease dataset classification using CNN</h1>\n",
        "<p>Within the GitHub repo there are many alternatives of the dataset including augmented and split data. I will be using the raw unchanged colour data within this project which can be found under the raw and then color directories.</p>\n",
        "<p>Within this dataset I am going to begin by only focusing on the Apple plant images and their conditions to reduce the number of classification classes</p>\n",
        "\n",
        "In the future to improve model convert jpeg images into tfrec files but not for now because we just need to make the model.\n",
        "\n",
        "Issues running into:\n",
        "*   Can't run model on tpu without using google sdk because the tpu can't access local files to run them\n",
        "\n"
      ],
      "metadata": {
        "id": "qd4_UF_It6dc"
      }
    },
    {
      "cell_type": "markdown",
      "source": [
        "# Data gathering and sorting\n",
        "<p>Move desired 4 folders into the apples only folder to be used, Apples_only is in the content folder if you lose it again</p>"
      ],
      "metadata": {
        "id": "LGaZH4XAiinL"
      }
    },
    {
      "cell_type": "code",
      "source": [
        "! git clone https://github.com/spMohanty/PlantVillage-Dataset\n",
        "! cd PlantVillage-Dataset"
      ],
      "metadata": {
        "id": "M8r7281xgl0f",
        "colab": {
          "base_uri": "https://localhost:8080/"
        },
        "outputId": "c2fa6980-4f41-44de-c12e-f4e59aa10e9c"
      },
      "execution_count": 2,
      "outputs": [
        {
          "output_type": "stream",
          "name": "stdout",
          "text": [
            "Cloning into 'PlantVillage-Dataset'...\n",
            "remote: Enumerating objects: 163229, done.\u001b[K\n",
            "remote: Total 163229 (delta 0), reused 0 (delta 0), pack-reused 163229\u001b[K\n",
            "Receiving objects: 100% (163229/163229), 2.00 GiB | 16.36 MiB/s, done.\n",
            "Resolving deltas: 100% (99/99), done.\n",
            "Checking out files: 100% (182401/182401), done.\n"
          ]
        }
      ]
    },
    {
      "cell_type": "code",
      "source": [
        "%ls"
      ],
      "metadata": {
        "id": "MMljeO1UuznM",
        "colab": {
          "base_uri": "https://localhost:8080/"
        },
        "outputId": "97d2f991-2c2d-4e2a-90bd-38eccadf47cb"
      },
      "execution_count": 3,
      "outputs": [
        {
          "output_type": "stream",
          "name": "stdout",
          "text": [
            "\u001b[0m\u001b[01;34mPlantVillage-Dataset\u001b[0m/  \u001b[01;34msample_data\u001b[0m/\n"
          ]
        }
      ]
    },
    {
      "cell_type": "code",
      "source": [
        "# Make Apples_only directory in the content route\n",
        "%mkdir -p Apples_only"
      ],
      "metadata": {
        "id": "caN8uSU2q6Kw"
      },
      "execution_count": 4,
      "outputs": []
    },
    {
      "cell_type": "code",
      "source": [
        "# Copy desired data from original directory into Apples_only\n",
        "%mv /content/PlantVillage-Dataset/raw/color/Apple___Apple_scab /content/Apples_only/Scab\n",
        "%mv /content/PlantVillage-Dataset/raw/color/Apple___Black_rot /content/Apples_only/Black_rot\n",
        "%mv /content/PlantVillage-Dataset/raw/color/Apple___Cedar_apple_rust /content/Apples_only/Rust\n",
        "%mv /content/PlantVillage-Dataset/raw/color/Apple___healthy /content/Apples_only/Healthy"
      ],
      "metadata": {
        "id": "hhAzTGzKvk0S"
      },
      "execution_count": 5,
      "outputs": []
    },
    {
      "cell_type": "code",
      "source": [
        "%cd Apples_only/"
      ],
      "metadata": {
        "id": "ZbosNhKmZzqa",
        "colab": {
          "base_uri": "https://localhost:8080/"
        },
        "outputId": "56db3eb8-0bc6-47e3-d294-611202e18cf4"
      },
      "execution_count": 6,
      "outputs": [
        {
          "output_type": "stream",
          "name": "stdout",
          "text": [
            "/content/Apples_only\n"
          ]
        }
      ]
    },
    {
      "cell_type": "code",
      "source": [
        "%ls"
      ],
      "metadata": {
        "id": "I3AO7k6_bpLY",
        "colab": {
          "base_uri": "https://localhost:8080/"
        },
        "outputId": "18e8e1c8-6afe-47f5-a2d9-40156a5ca7c5"
      },
      "execution_count": 7,
      "outputs": [
        {
          "output_type": "stream",
          "name": "stdout",
          "text": [
            "\u001b[0m\u001b[01;34mBlack_rot\u001b[0m/  \u001b[01;34mHealthy\u001b[0m/  \u001b[01;34mRust\u001b[0m/  \u001b[01;34mScab\u001b[0m/\n"
          ]
        }
      ]
    },
    {
      "cell_type": "markdown",
      "source": [
        "Import .json file with label mappings"
      ],
      "metadata": {
        "id": "m13Evh5NOEL4"
      }
    },
    {
      "cell_type": "code",
      "source": [
        "# %cd ..\n",
        "\n",
        "# from google.colab import files\n",
        "# files.upload()"
      ],
      "metadata": {
        "id": "dQt4Vdo_OKFW"
      },
      "execution_count": 8,
      "outputs": []
    },
    {
      "cell_type": "markdown",
      "source": [
        "# Setting up environment"
      ],
      "metadata": {
        "id": "i1AFfH7Oeu0r"
      }
    },
    {
      "cell_type": "code",
      "source": [
        "# Module importing\n",
        "import pandas as pd\n",
        "import matplotlib.pyplot as plt\n",
        "import numpy as np\n",
        "import tensorflow as tf\n",
        "import os, warnings\n",
        "import shutil\n",
        "import cv2\n",
        "import math\n",
        "import re\n",
        "\n",
        "from functools import partial\n",
        "from tqdm import tqdm\n",
        "from tensorflow import keras\n",
        "from tensorflow.keras import layers\n",
        "from tensorflow.keras.preprocessing import image_dataset_from_directory\n",
        "from tensorflow.keras.preprocessing.image import ImageDataGenerator\n",
        "from sklearn.model_selection import train_test_split\n",
        "print(\"Tensorflow version\", tf.__version__)"
      ],
      "metadata": {
        "id": "lCmyPYOrigx6",
        "colab": {
          "base_uri": "https://localhost:8080/"
        },
        "outputId": "ac5cd219-3bc0-40e2-cf9f-5ff863e37ecb"
      },
      "execution_count": 9,
      "outputs": [
        {
          "output_type": "stream",
          "name": "stdout",
          "text": [
            "Tensorflow version 2.8.0\n"
          ]
        }
      ]
    },
    {
      "cell_type": "markdown",
      "source": [
        "# Make .csv file for the labels"
      ],
      "metadata": {
        "id": "IXFPgyTnM_rl"
      }
    },
    {
      "cell_type": "code",
      "source": [
        "# Making a csv file and dataframe of one hot encoded data\n",
        "root_dir = '/content/Apples_only'\n",
        "classes = ['Scab', 'Black_rot', 'Rust', 'Healthy']\n",
        "\n",
        "scab_substring = \"Scab\"\n",
        "black_rot_substring = \"JR_FrgE.S\"\n",
        "healthy_substring = \"RS_HL\"\n",
        "rust_substring = \"Rust\"\n",
        "\n",
        "# Create datasframe to for data to be converted into a .csv\n",
        "df = pd.DataFrame(columns = ['image_id', 'label'])\n",
        "# print(df)\n",
        "for images in os.listdir(root_dir + '/Scab/'):\n",
        "  fullstring = images\n",
        "  int_dic = {\"image_id\":fullstring, 'label':0}\n",
        "  df = df.append(int_dic, ignore_index=True)\n",
        "\n",
        "for images in os.listdir(root_dir + '/Black_rot/'):   \n",
        "  int_dic = {\"image_id\":fullstring, 'label':1}\n",
        "  df = df.append(int_dic, ignore_index=True)\n",
        "\n",
        "for images in os.listdir(root_dir + '/Rust/'):   \n",
        "  int_dic = {\"image_id\":fullstring, 'label':2}\n",
        "  df = df.append(int_dic, ignore_index=True)\n",
        "\n",
        "for images in os.listdir(root_dir + '/Healthy/'):   \n",
        "  int_dic = {\"image_id\":fullstring, 'label':3}\n",
        "  df = df.append(int_dic, ignore_index=True)"
      ],
      "metadata": {
        "id": "QfukPERMpyud"
      },
      "execution_count": 10,
      "outputs": []
    },
    {
      "cell_type": "code",
      "source": [
        "# This may not be necessary as we are not moving the data from anywhere to anywheree it's all staying in house\n",
        "df.to_csv('/content/labels.csv', header=True, index=False)"
      ],
      "metadata": {
        "id": "LHmyBzNQQZdy"
      },
      "execution_count": 11,
      "outputs": []
    },
    {
      "cell_type": "markdown",
      "source": [
        "# Make train and test folders"
      ],
      "metadata": {
        "id": "BXN1pCOUPpVi"
      }
    },
    {
      "cell_type": "code",
      "source": [
        "for i in classes:\n",
        "  os.makedirs(root_dir + '/train_images/' + i)\n",
        "  os.makedirs(root_dir + '/test_images/' + i)\n",
        "  source = root_dir + '/' + i\n",
        "\n",
        "  allFileNames = os.listdir(source)\n",
        "\n",
        "  np.random.shuffle(allFileNames)\n",
        "\n",
        "  test_ratio = 0.1\n",
        "  train_FileNames, test_FileNames = np.split(np.array(allFileNames), [int(len(allFileNames)*(1 - test_ratio))])\n",
        "\n",
        "  train_FileNames = [source + '/' + name for name in train_FileNames.tolist()]\n",
        "  test_FileNames = [source + '/' + name for name in test_FileNames.tolist()]\n",
        "\n",
        "  for name in train_FileNames:\n",
        "    shutil.copy(name, root_dir + '/train_images/' + i)\n",
        "  \n",
        "  for name in test_FileNames:\n",
        "    shutil.copy(name, root_dir + '/test_images/' + i)"
      ],
      "metadata": {
        "id": "Rj1XmDaCexDq"
      },
      "execution_count": 12,
      "outputs": []
    },
    {
      "cell_type": "code",
      "source": [
        "# %mv /content/Apples_only/train_images/Black_rot/* /content/Apples_only/train_images\n",
        "# %mv /content/Apples_only/train_images/Healthy/* /content/Apples_only/train_images\n",
        "# %mv /content/Apples_only/train_images/Rust/* /content/Apples_only/train_images\n",
        "# %mv /content/Apples_only/train_images/Scab/* /content/Apples_only/train_images\n",
        "# %rmdir /content/Apples_only/train_images/Black_rot\n",
        "# %rmdir /content/Apples_only/train_images/Healthy\n",
        "# %rmdir /content/Apples_only/train_images/Rust\n",
        "# %rmdir /content/Apples_only/train_images/Scab\n",
        "\n",
        "# %mv /content/Apples_only/test_images/Black_rot/* /content/Apples_only/test_images\n",
        "# %mv /content/Apples_only/test_images/Healthy/* /content/Apples_only/test_images\n",
        "# %mv /content/Apples_only/test_images/Rust/* /content/Apples_only/test_images\n",
        "# %mv /content/Apples_only/test_images/Scab/* /content/Apples_only/test_images\n",
        "# %rmdir /content/Apples_only/test_images/Black_rot\n",
        "# %rmdir /content/Apples_only/test_images/Healthy\n",
        "# %rmdir /content/Apples_only/test_images/Rust\n",
        "# %rmdir /content/Apples_only/test_images/Scab"
      ],
      "metadata": {
        "id": "L8d-mjHhXL65"
      },
      "execution_count": 13,
      "outputs": []
    },
    {
      "cell_type": "markdown",
      "source": [
        "# Detect TPU\n",
        "<p>If number of replicas is 1, it means that TPU is not enabled within the notebook.</p>"
      ],
      "metadata": {
        "id": "ko620LvFkaEp"
      }
    },
    {
      "cell_type": "code",
      "source": [
        "# Detect TPU, return appropriate distribution strategy\n",
        "try:\n",
        "    tpu = tf.distribute.cluster_resolver.TPUClusterResolver() \n",
        "    print('Running on TPU ', tpu.master())\n",
        "except ValueError:\n",
        "    tpu = None\n",
        "\n",
        "if tpu:\n",
        "    tf.config.experimental_connect_to_cluster(tpu)\n",
        "    tf.tpu.experimental.initialize_tpu_system(tpu)\n",
        "    strategy = tf.distribute.experimental.TPUStrategy(tpu)\n",
        "else:\n",
        "    strategy = tf.distribute.get_strategy() \n",
        "\n",
        "print(\"REPLICAS: \", strategy.num_replicas_in_sync)"
      ],
      "metadata": {
        "id": "7Rc9eMXHkk5B",
        "colab": {
          "base_uri": "https://localhost:8080/"
        },
        "outputId": "f96d3171-b1fb-46ff-f0ae-430fb76218f0"
      },
      "execution_count": 14,
      "outputs": [
        {
          "output_type": "stream",
          "name": "stdout",
          "text": [
            "REPLICAS:  1\n"
          ]
        }
      ]
    },
    {
      "cell_type": "markdown",
      "source": [
        "# Detect a GPU\n",
        "For those days when you don't want to wait an age for a cpu to run but it's too late to troubleshout a tpu"
      ],
      "metadata": {
        "id": "JOrItigXn5DZ"
      }
    },
    {
      "cell_type": "code",
      "source": [
        "%tensorflow_version 2.x\n",
        "import tensorflow as tf\n",
        "device_name = tf.test.gpu_device_name()\n",
        "if device_name != '/device:GPU:0':\n",
        "  raise SystemError('GPU device not found')\n",
        "print('Found GPU at: {}'.format(device_name))"
      ],
      "metadata": {
        "colab": {
          "base_uri": "https://localhost:8080/"
        },
        "id": "uhUyJxkkoBgJ",
        "outputId": "a4b4eed9-da2b-44e8-f036-accf94759f9f"
      },
      "execution_count": 15,
      "outputs": [
        {
          "output_type": "stream",
          "name": "stdout",
          "text": [
            "Found GPU at: /device:GPU:0\n"
          ]
        }
      ]
    },
    {
      "cell_type": "markdown",
      "source": [
        "# Setting up varaibles\n",
        "*   Autotune delivers the input to the TPU more efficiently.\n",
        "\n",
        "*   strategy.num_replicas_in_sync determines the way the loss function should be calculated.\n",
        "\n"
      ],
      "metadata": {
        "id": "qvL5HaBXpftQ"
      }
    },
    {
      "cell_type": "code",
      "source": [
        "autotune = tf.data.experimental.AUTOTUNE\n",
        "batch_size = 16 * strategy.num_replicas_in_sync\n",
        "# IMAGE_SIZE = [512, 512]\n",
        "# classes = ['0', '1', '2', '3']\n",
        "# epochs = 25"
      ],
      "metadata": {
        "id": "u_G9eYFfpiCY"
      },
      "execution_count": 16,
      "outputs": []
    },
    {
      "cell_type": "markdown",
      "source": [
        "# Load the image data into Python\n",
        "<h3>Decode images and format into tfrecords for the tpu</h3>"
      ],
      "metadata": {
        "id": "Lkk16oHi4slw"
      }
    },
    {
      "cell_type": "code",
      "source": [
        "# Reproducability\n",
        "def set_seed(seed=31415):\n",
        "    np.random.seed(seed)\n",
        "    tf.random.set_seed(seed)\n",
        "    os.environ['PYTHONHASHSEED'] = str(seed)\n",
        "    os.environ['TF_DETERMINISTIC_OPS'] = '1'\n",
        "set_seed()\n",
        "\n",
        "# Set Matplotlib defaults\n",
        "plt.rc('figure', autolayout=True)\n",
        "plt.rc('axes', labelweight='bold', labelsize='large',\n",
        "       titleweight='bold', titlesize=18, titlepad=10)\n",
        "plt.rc('image', cmap='magma')\n",
        "warnings.filterwarnings(\"ignore\") # to clean up output cells\n",
        "\n",
        "\n",
        "# Load training and validation sets\n",
        "ds_train_ = image_dataset_from_directory(\n",
        "    '/content/Apples_only/train_images',\n",
        "    labels='inferred',\n",
        "    label_mode='int',\n",
        "    image_size=[128, 128],\n",
        "    interpolation='nearest',\n",
        "    batch_size=64,\n",
        "    shuffle=True,\n",
        ")\n",
        "ds_valid_ = image_dataset_from_directory(\n",
        "    '/content/Apples_only/test_images',\n",
        "    labels='inferred',\n",
        "    label_mode='int',\n",
        "    image_size=[128, 128],\n",
        "    interpolation='nearest',\n",
        "    batch_size=64,\n",
        "    shuffle=False\n",
        ")\n",
        "\n",
        "# Data Pipeline\n",
        "def convert_to_float(image, label):\n",
        "    image = tf.image.convert_image_dtype(image, dtype=tf.float32)\n",
        "    return image, label\n",
        "\n",
        "AUTOTUNE = tf.data.experimental.AUTOTUNE\n",
        "ds_train = (\n",
        "    ds_train_\n",
        "    .map(convert_to_float)\n",
        "    .cache()\n",
        "    .prefetch(buffer_size=AUTOTUNE)\n",
        ")\n",
        "ds_valid = (\n",
        "    ds_valid_\n",
        "    .map(convert_to_float)\n",
        "    .cache()\n",
        "    .prefetch(buffer_size=AUTOTUNE)\n",
        ")\n"
      ],
      "metadata": {
        "id": "OR-oFZHnCKzT",
        "colab": {
          "base_uri": "https://localhost:8080/"
        },
        "outputId": "f53be56a-3d49-4322-93e9-8f356759e984"
      },
      "execution_count": 17,
      "outputs": [
        {
          "output_type": "stream",
          "name": "stdout",
          "text": [
            "Found 2852 files belonging to 4 classes.\n",
            "Found 319 files belonging to 4 classes.\n"
          ]
        }
      ]
    },
    {
      "cell_type": "code",
      "source": [
        "# # Loading in images (not tfrecs)\n",
        "\n",
        "# train = ImageDataGenerator(rescale = 1/255)\n",
        "# test = ImageDataGenerator(rescale = 1/255)\n",
        "\n",
        "# train_dataset = train.flow_from_directory(\"/content/Apples_only/train_images/\",\n",
        "#                                           target_size = (200,200),\n",
        "#                                           batch_size = 50,\n",
        "#                                           class_mode = \"categorical\")\n",
        "\n",
        "# test_dataset = test.flow_from_directory(\"/content/Apples_only/test_images/\",\n",
        "#                                           target_size = (200,200),\n",
        "#                                           batch_size = 50,\n",
        "#                                           class_mode = \"categorical\")\n",
        "\n",
        "# print(train_dataset)"
      ],
      "metadata": {
        "id": "qBhIbtYC2IUz"
      },
      "execution_count": 18,
      "outputs": []
    },
    {
      "cell_type": "code",
      "source": [
        "# train_dataset.class_indices"
      ],
      "metadata": {
        "id": "qYybyvLv7CSS"
      },
      "execution_count": 19,
      "outputs": []
    },
    {
      "cell_type": "code",
      "source": [
        "# train_dataset.classes"
      ],
      "metadata": {
        "id": "KW4XLJDy7Ps7"
      },
      "execution_count": 20,
      "outputs": []
    },
    {
      "cell_type": "code",
      "source": [
        "# def decode_image(image):\n",
        "#     image = tf.image.decode_jpeg(image, channels=3)\n",
        "#     image = tf.cast(image, tf.float32) / 255.0 # Normalise image values between 0 and 1\n",
        "#     image = tf.reshape(image, [*image_size, 3])\n",
        "#     return image"
      ],
      "metadata": {
        "id": "Up1hdr7n4sRD"
      },
      "execution_count": 21,
      "outputs": []
    },
    {
      "cell_type": "code",
      "source": [
        "# def read_tfrecord(example, labeled):\n",
        "#     tfrecord_format = {\n",
        "#         \"image\": tf.io.FixedLenFeature([], tf.string),\n",
        "#         \"target\": tf.io.FixedLenFeature([], tf.int64)\n",
        "#     } \n",
        "\n",
        "#     example = tf.io.parse_single_example(example, tfrecord_format)\n",
        "#     image = decode_image(example['image'])\n",
        "#     if labeled:\n",
        "#         label = tf.cast(example['target'], tf.int32)\n",
        "#         return image, label\n",
        "#     idnum = example['image_name']\n",
        "#     return image, idnum"
      ],
      "metadata": {
        "id": "kd-t92gg44Yf"
      },
      "execution_count": 22,
      "outputs": []
    },
    {
      "cell_type": "code",
      "source": [
        "# def load_dataset(filenames, labeled=True, ordered=False):\n",
        "#     ignore_order = tf.data.Options()\n",
        "#     if not ordered:\n",
        "#         ignore_order.experimental_deterministic = False # disable order, increase speed\n",
        "#     dataset = tf.data.TFRecordDataset(filenames, num_parallel_reads=autotune) # automatically interleaves reads from multiple files\n",
        "#     dataset = dataset.with_options(ignore_order) # uses data as soon as it streams in, rather than in its original order\n",
        "#     dataset = dataset.map(partial(read_tfrecord, labeled=labeled), num_parallel_calls=autotune)\n",
        "#     return dataset"
      ],
      "metadata": {
        "id": "BV2eTCip5B_o"
      },
      "execution_count": 23,
      "outputs": []
    },
    {
      "cell_type": "code",
      "source": [
        "# train_filenames, val_filenames = train_test_split(\n",
        "#     tf.io.gfile.glob(root_dir + '/train_images/*'),\n",
        "#     test_size=0.35, random_state=5\n",
        "# )\n",
        "\n",
        "# test_filenames = tf.io.gfile.glob(root_dir + '/test_images/*')\n",
        "\n",
        "# print(train_filenames)"
      ],
      "metadata": {
        "id": "aOBd6i8AVLk_"
      },
      "execution_count": 24,
      "outputs": []
    },
    {
      "cell_type": "markdown",
      "source": [
        "# Data Augmentation"
      ],
      "metadata": {
        "id": "gg1jK-rbW86I"
      }
    },
    {
      "cell_type": "code",
      "source": [
        "def data_augment(image, label):\n",
        "    image = tf.image.random_flip_left_right(image)\n",
        "    return image, label"
      ],
      "metadata": {
        "id": "vBzIzw_jW__8"
      },
      "execution_count": 25,
      "outputs": []
    },
    {
      "cell_type": "markdown",
      "source": [
        "# Brief Exploratory Data Analysis (EDA)"
      ],
      "metadata": {
        "id": "vUAZwB0udw7t"
      }
    },
    {
      "cell_type": "code",
      "source": [
        "# print(get_training_dataset())\n",
        "# print(get_training_dataset().take(3))\n",
        "# # for image, label in get_training_dataset().take(3):\n",
        "# # #     print(\"image:\",image)\n",
        "# #     print(\"label:\", label)"
      ],
      "metadata": {
        "id": "-FuN61AmkLrN"
      },
      "execution_count": 26,
      "outputs": []
    },
    {
      "cell_type": "code",
      "source": [
        "# print(\"Training data shapes:\")\n",
        "# for image, label in get_training_dataset().take(3):\n",
        "#     print(image.numpy().shape, label.numpy().shape)\n",
        "# print(\"Training data label examples:\", label.numpy())\n",
        "\n",
        "# print(\"Validation data shapes:\")\n",
        "# for image, label in get_validation_dataset().take(3):\n",
        "#     print(image.numpy().shape, label.numpy().shape)\n",
        "# print(\"Validation data label examples:\", label.numpy())\n",
        "\n",
        "# print(\"Test data shapes:\")\n",
        "# for image, idnum in get_test_dataset().take(3):\n",
        "#     print(image.numpy().shape, idnum.numpy().shape)\n",
        "# print(\"Test data IDs:\", idnum.numpy().astype('U')) # U=unicode string"
      ],
      "metadata": {
        "id": "dHBmRsrRd2cJ"
      },
      "execution_count": 27,
      "outputs": []
    },
    {
      "cell_type": "markdown",
      "source": [
        "# Define data loading methods"
      ],
      "metadata": {
        "id": "WZmlCZwNWZqM"
      }
    },
    {
      "cell_type": "code",
      "source": [
        "# def get_training_dataset():\n",
        "#     dataset = load_dataset(train_filenames, labeled=True)  \n",
        "#     dataset = dataset.map(data_augment, num_parallel_calls=autotune)  \n",
        "#     dataset = dataset.repeat()\n",
        "#     dataset = dataset.shuffle(2048)\n",
        "#     dataset = dataset.batch(batch_size)\n",
        "#     dataset = dataset.prefetch(autotune)\n",
        "#     return dataset\n",
        "\n",
        "# def get_validation_dataset(ordered=False):\n",
        "#     dataset = load_dataset(val_filenames, labeled=True, ordered=ordered) \n",
        "#     dataset = dataset.batch(batch_size)\n",
        "#     dataset = dataset.cache()\n",
        "#     dataset = dataset.prefetch(autotune)\n",
        "#     return dataset\n",
        "\n",
        "# def get_test_dataset(ordered=False):\n",
        "#     dataset = load_dataset(test_filenames, labeled=False, ordered=ordered)\n",
        "#     dataset = dataset.batch(batch_size)\n",
        "#     dataset = dataset.prefetch(autotune)\n",
        "#     return dataset"
      ],
      "metadata": {
        "id": "4mMqvZdUWiqw"
      },
      "execution_count": 28,
      "outputs": []
    },
    {
      "cell_type": "markdown",
      "source": [
        "# Make the model"
      ],
      "metadata": {
        "id": "_v7DUqsbn2py"
      }
    },
    {
      "cell_type": "code",
      "source": [
        "with strategy.scope():\n",
        "\n",
        "  model = keras.Sequential([\n",
        "      # Block One\n",
        "      layers.Conv2D(filters=32, kernel_size=3, activation='relu', padding='same',\n",
        "                    input_shape=[128, 128, 3]),\n",
        "      layers.MaxPool2D(),\n",
        "\n",
        "      # Block Two\n",
        "      layers.Conv2D(filters=64, kernel_size=3, activation='relu', padding='same'),\n",
        "      layers.MaxPool2D(),\n",
        "\n",
        "      # Block Three\n",
        "      layers.Conv2D(filters=128, kernel_size=3, activation='relu', padding='same'),\n",
        "      layers.Conv2D(filters=128, kernel_size=3, activation='relu', padding='same'),\n",
        "      layers.MaxPool2D(),\n",
        "\n",
        "      # Head\n",
        "      layers.Flatten(),\n",
        "      layers.Dense(6, activation='relu'),\n",
        "      layers.Dropout(0.2),\n",
        "      layers.Dense(4, activation='softmax'),\n",
        "])"
      ],
      "metadata": {
        "id": "C5ScFty2iYFK"
      },
      "execution_count": 29,
      "outputs": []
    },
    {
      "cell_type": "code",
      "source": [
        "model.summary()"
      ],
      "metadata": {
        "id": "PetVVvQT6j5B",
        "colab": {
          "base_uri": "https://localhost:8080/"
        },
        "outputId": "f1066a31-52b6-496f-bca5-519bf17735e1"
      },
      "execution_count": 30,
      "outputs": [
        {
          "output_type": "stream",
          "name": "stdout",
          "text": [
            "Model: \"sequential\"\n",
            "_________________________________________________________________\n",
            " Layer (type)                Output Shape              Param #   \n",
            "=================================================================\n",
            " conv2d (Conv2D)             (None, 128, 128, 32)      896       \n",
            "                                                                 \n",
            " max_pooling2d (MaxPooling2D  (None, 64, 64, 32)       0         \n",
            " )                                                               \n",
            "                                                                 \n",
            " conv2d_1 (Conv2D)           (None, 64, 64, 64)        18496     \n",
            "                                                                 \n",
            " max_pooling2d_1 (MaxPooling  (None, 32, 32, 64)       0         \n",
            " 2D)                                                             \n",
            "                                                                 \n",
            " conv2d_2 (Conv2D)           (None, 32, 32, 128)       73856     \n",
            "                                                                 \n",
            " conv2d_3 (Conv2D)           (None, 32, 32, 128)       147584    \n",
            "                                                                 \n",
            " max_pooling2d_2 (MaxPooling  (None, 16, 16, 128)      0         \n",
            " 2D)                                                             \n",
            "                                                                 \n",
            " flatten (Flatten)           (None, 32768)             0         \n",
            "                                                                 \n",
            " dense (Dense)               (None, 6)                 196614    \n",
            "                                                                 \n",
            " dropout (Dropout)           (None, 6)                 0         \n",
            "                                                                 \n",
            " dense_1 (Dense)             (None, 4)                 28        \n",
            "                                                                 \n",
            "=================================================================\n",
            "Total params: 437,474\n",
            "Trainable params: 437,474\n",
            "Non-trainable params: 0\n",
            "_________________________________________________________________\n"
          ]
        }
      ]
    },
    {
      "cell_type": "markdown",
      "source": [
        "Model Train"
      ],
      "metadata": {
        "id": "1GMZCq5OtYyG"
      }
    },
    {
      "cell_type": "code",
      "source": [
        "model.compile(\n",
        "    optimizer=tf.keras.optimizers.Adam(epsilon=0.01),\n",
        "    loss='sparse_categorical_crossentropy',\n",
        "    metrics=['sparse_categorical_accuracy']\n",
        ")\n"
      ],
      "metadata": {
        "id": "wYWkMcUWhhTP"
      },
      "execution_count": 31,
      "outputs": []
    },
    {
      "cell_type": "code",
      "source": [
        "history = model.fit(\n",
        "    ds_train,\n",
        "    validation_data=ds_valid,\n",
        "    epochs=50,\n",
        ")"
      ],
      "metadata": {
        "id": "ygTKQAUrhhEs",
        "colab": {
          "base_uri": "https://localhost:8080/"
        },
        "outputId": "ec9041f7-4eab-4cc7-9f26-6e9e47a6ebc1"
      },
      "execution_count": 32,
      "outputs": [
        {
          "output_type": "stream",
          "name": "stdout",
          "text": [
            "Epoch 1/50\n",
            "45/45 [==============================] - 20s 181ms/step - loss: 1.2763 - sparse_categorical_accuracy: 0.4558 - val_loss: 1.1891 - val_sparse_categorical_accuracy: 0.5172\n",
            "Epoch 2/50\n",
            "45/45 [==============================] - 7s 153ms/step - loss: 1.1513 - sparse_categorical_accuracy: 0.4786 - val_loss: 1.0521 - val_sparse_categorical_accuracy: 0.5204\n",
            "Epoch 3/50\n",
            "45/45 [==============================] - 7s 152ms/step - loss: 0.9875 - sparse_categorical_accuracy: 0.5536 - val_loss: 0.8269 - val_sparse_categorical_accuracy: 0.6395\n",
            "Epoch 4/50\n",
            "45/45 [==============================] - 7s 147ms/step - loss: 0.7745 - sparse_categorical_accuracy: 0.6238 - val_loss: 0.7078 - val_sparse_categorical_accuracy: 0.6646\n",
            "Epoch 5/50\n",
            "45/45 [==============================] - 7s 148ms/step - loss: 0.6878 - sparse_categorical_accuracy: 0.6978 - val_loss: 0.6477 - val_sparse_categorical_accuracy: 0.7116\n",
            "Epoch 6/50\n",
            "45/45 [==============================] - 7s 147ms/step - loss: 0.6092 - sparse_categorical_accuracy: 0.7630 - val_loss: 0.5410 - val_sparse_categorical_accuracy: 0.7900\n",
            "Epoch 7/50\n",
            "45/45 [==============================] - 7s 149ms/step - loss: 0.5737 - sparse_categorical_accuracy: 0.7777 - val_loss: 0.5286 - val_sparse_categorical_accuracy: 0.7712\n",
            "Epoch 8/50\n",
            "45/45 [==============================] - 7s 149ms/step - loss: 0.5703 - sparse_categorical_accuracy: 0.7714 - val_loss: 0.4670 - val_sparse_categorical_accuracy: 0.7712\n",
            "Epoch 9/50\n",
            "45/45 [==============================] - 7s 150ms/step - loss: 0.5117 - sparse_categorical_accuracy: 0.8043 - val_loss: 0.4994 - val_sparse_categorical_accuracy: 0.8150\n",
            "Epoch 10/50\n",
            "45/45 [==============================] - 7s 149ms/step - loss: 0.4844 - sparse_categorical_accuracy: 0.8156 - val_loss: 0.4176 - val_sparse_categorical_accuracy: 0.8464\n",
            "Epoch 11/50\n",
            "45/45 [==============================] - 7s 152ms/step - loss: 0.4265 - sparse_categorical_accuracy: 0.8370 - val_loss: 0.3970 - val_sparse_categorical_accuracy: 0.8652\n",
            "Epoch 12/50\n",
            "45/45 [==============================] - 7s 151ms/step - loss: 0.4319 - sparse_categorical_accuracy: 0.8447 - val_loss: 0.3841 - val_sparse_categorical_accuracy: 0.8746\n",
            "Epoch 13/50\n",
            "45/45 [==============================] - 7s 150ms/step - loss: 0.4374 - sparse_categorical_accuracy: 0.8387 - val_loss: 0.3436 - val_sparse_categorical_accuracy: 0.8903\n",
            "Epoch 14/50\n",
            "45/45 [==============================] - 7s 151ms/step - loss: 0.4105 - sparse_categorical_accuracy: 0.8457 - val_loss: 0.3205 - val_sparse_categorical_accuracy: 0.8997\n",
            "Epoch 15/50\n",
            "45/45 [==============================] - 7s 150ms/step - loss: 0.4028 - sparse_categorical_accuracy: 0.8513 - val_loss: 0.4365 - val_sparse_categorical_accuracy: 0.8245\n",
            "Epoch 16/50\n",
            "45/45 [==============================] - 7s 150ms/step - loss: 0.4054 - sparse_categorical_accuracy: 0.8433 - val_loss: 0.3565 - val_sparse_categorical_accuracy: 0.8558\n",
            "Epoch 17/50\n",
            "45/45 [==============================] - 7s 152ms/step - loss: 0.3726 - sparse_categorical_accuracy: 0.8612 - val_loss: 0.3080 - val_sparse_categorical_accuracy: 0.8934\n",
            "Epoch 18/50\n",
            "45/45 [==============================] - 7s 150ms/step - loss: 0.3660 - sparse_categorical_accuracy: 0.8594 - val_loss: 0.3513 - val_sparse_categorical_accuracy: 0.8715\n",
            "Epoch 19/50\n",
            "45/45 [==============================] - 7s 150ms/step - loss: 0.3639 - sparse_categorical_accuracy: 0.8615 - val_loss: 0.3009 - val_sparse_categorical_accuracy: 0.8871\n",
            "Epoch 20/50\n",
            "45/45 [==============================] - 7s 149ms/step - loss: 0.3282 - sparse_categorical_accuracy: 0.8829 - val_loss: 0.2609 - val_sparse_categorical_accuracy: 0.9091\n",
            "Epoch 21/50\n",
            "45/45 [==============================] - 7s 149ms/step - loss: 0.2997 - sparse_categorical_accuracy: 0.8864 - val_loss: 0.2628 - val_sparse_categorical_accuracy: 0.9060\n",
            "Epoch 22/50\n",
            "45/45 [==============================] - 7s 151ms/step - loss: 0.3088 - sparse_categorical_accuracy: 0.8850 - val_loss: 0.2688 - val_sparse_categorical_accuracy: 0.9091\n",
            "Epoch 23/50\n",
            "45/45 [==============================] - 7s 150ms/step - loss: 0.3003 - sparse_categorical_accuracy: 0.8920 - val_loss: 0.2796 - val_sparse_categorical_accuracy: 0.9091\n",
            "Epoch 24/50\n",
            "45/45 [==============================] - 7s 153ms/step - loss: 0.2999 - sparse_categorical_accuracy: 0.8846 - val_loss: 0.2685 - val_sparse_categorical_accuracy: 0.9060\n",
            "Epoch 25/50\n",
            "45/45 [==============================] - 7s 150ms/step - loss: 0.2722 - sparse_categorical_accuracy: 0.8987 - val_loss: 0.3374 - val_sparse_categorical_accuracy: 0.8809\n",
            "Epoch 26/50\n",
            "45/45 [==============================] - 7s 150ms/step - loss: 0.2796 - sparse_categorical_accuracy: 0.8917 - val_loss: 0.3043 - val_sparse_categorical_accuracy: 0.9028\n",
            "Epoch 27/50\n",
            "45/45 [==============================] - 7s 150ms/step - loss: 0.2649 - sparse_categorical_accuracy: 0.8966 - val_loss: 0.2587 - val_sparse_categorical_accuracy: 0.9028\n",
            "Epoch 28/50\n",
            "45/45 [==============================] - 7s 150ms/step - loss: 0.2849 - sparse_categorical_accuracy: 0.8867 - val_loss: 0.2161 - val_sparse_categorical_accuracy: 0.9310\n",
            "Epoch 29/50\n",
            "45/45 [==============================] - 7s 150ms/step - loss: 0.2446 - sparse_categorical_accuracy: 0.9113 - val_loss: 0.1900 - val_sparse_categorical_accuracy: 0.9404\n",
            "Epoch 30/50\n",
            "45/45 [==============================] - 7s 151ms/step - loss: 0.2276 - sparse_categorical_accuracy: 0.9123 - val_loss: 0.2088 - val_sparse_categorical_accuracy: 0.9279\n",
            "Epoch 31/50\n",
            "45/45 [==============================] - 7s 150ms/step - loss: 0.2512 - sparse_categorical_accuracy: 0.9025 - val_loss: 0.2101 - val_sparse_categorical_accuracy: 0.9373\n",
            "Epoch 32/50\n",
            "45/45 [==============================] - 7s 150ms/step - loss: 0.2321 - sparse_categorical_accuracy: 0.9053 - val_loss: 0.2808 - val_sparse_categorical_accuracy: 0.9216\n",
            "Epoch 33/50\n",
            "45/45 [==============================] - 7s 150ms/step - loss: 0.2202 - sparse_categorical_accuracy: 0.9078 - val_loss: 0.2552 - val_sparse_categorical_accuracy: 0.9216\n",
            "Epoch 34/50\n",
            "45/45 [==============================] - 7s 150ms/step - loss: 0.2272 - sparse_categorical_accuracy: 0.9123 - val_loss: 0.2349 - val_sparse_categorical_accuracy: 0.9310\n",
            "Epoch 35/50\n",
            "45/45 [==============================] - 7s 152ms/step - loss: 0.2299 - sparse_categorical_accuracy: 0.9120 - val_loss: 0.1904 - val_sparse_categorical_accuracy: 0.9404\n",
            "Epoch 36/50\n",
            "45/45 [==============================] - 7s 150ms/step - loss: 0.2005 - sparse_categorical_accuracy: 0.9236 - val_loss: 0.2110 - val_sparse_categorical_accuracy: 0.9342\n",
            "Epoch 37/50\n",
            "45/45 [==============================] - 7s 149ms/step - loss: 0.2192 - sparse_categorical_accuracy: 0.9165 - val_loss: 0.2595 - val_sparse_categorical_accuracy: 0.9185\n",
            "Epoch 38/50\n",
            "45/45 [==============================] - 7s 150ms/step - loss: 0.2308 - sparse_categorical_accuracy: 0.9078 - val_loss: 0.2533 - val_sparse_categorical_accuracy: 0.9216\n",
            "Epoch 39/50\n",
            "45/45 [==============================] - 7s 150ms/step - loss: 0.2226 - sparse_categorical_accuracy: 0.9141 - val_loss: 0.1990 - val_sparse_categorical_accuracy: 0.9404\n",
            "Epoch 40/50\n",
            "45/45 [==============================] - 7s 152ms/step - loss: 0.2214 - sparse_categorical_accuracy: 0.9151 - val_loss: 0.2217 - val_sparse_categorical_accuracy: 0.9248\n",
            "Epoch 41/50\n",
            "45/45 [==============================] - 7s 149ms/step - loss: 0.1981 - sparse_categorical_accuracy: 0.9278 - val_loss: 0.2028 - val_sparse_categorical_accuracy: 0.9530\n",
            "Epoch 42/50\n",
            "45/45 [==============================] - 7s 149ms/step - loss: 0.1743 - sparse_categorical_accuracy: 0.9334 - val_loss: 0.2171 - val_sparse_categorical_accuracy: 0.9342\n",
            "Epoch 43/50\n",
            "45/45 [==============================] - 7s 150ms/step - loss: 0.1836 - sparse_categorical_accuracy: 0.9274 - val_loss: 0.2127 - val_sparse_categorical_accuracy: 0.9467\n",
            "Epoch 44/50\n",
            "45/45 [==============================] - 7s 150ms/step - loss: 0.1690 - sparse_categorical_accuracy: 0.9334 - val_loss: 0.2260 - val_sparse_categorical_accuracy: 0.9310\n",
            "Epoch 45/50\n",
            "45/45 [==============================] - 7s 151ms/step - loss: 0.1710 - sparse_categorical_accuracy: 0.9313 - val_loss: 0.2201 - val_sparse_categorical_accuracy: 0.9373\n",
            "Epoch 46/50\n",
            "45/45 [==============================] - 7s 149ms/step - loss: 0.1873 - sparse_categorical_accuracy: 0.9225 - val_loss: 0.2532 - val_sparse_categorical_accuracy: 0.9373\n",
            "Epoch 47/50\n",
            "45/45 [==============================] - 7s 149ms/step - loss: 0.1589 - sparse_categorical_accuracy: 0.9411 - val_loss: 0.2318 - val_sparse_categorical_accuracy: 0.9404\n",
            "Epoch 48/50\n",
            "45/45 [==============================] - 7s 149ms/step - loss: 0.1817 - sparse_categorical_accuracy: 0.9271 - val_loss: 0.2364 - val_sparse_categorical_accuracy: 0.9404\n",
            "Epoch 49/50\n",
            "45/45 [==============================] - 7s 149ms/step - loss: 0.1901 - sparse_categorical_accuracy: 0.9271 - val_loss: 0.2417 - val_sparse_categorical_accuracy: 0.9310\n",
            "Epoch 50/50\n",
            "45/45 [==============================] - 7s 149ms/step - loss: 0.1581 - sparse_categorical_accuracy: 0.9379 - val_loss: 0.2461 - val_sparse_categorical_accuracy: 0.9467\n"
          ]
        }
      ]
    },
    {
      "cell_type": "code",
      "source": [
        "# model.compile(\n",
        "#     optimizer=tf.keras.optimizers.Adam(epsilon=0.01),\n",
        "#     loss='sparse_categorical_crossentropy',\n",
        "#     metrics=['sparse_categorical_accuracy']\n",
        "# )\n",
        "\n",
        "# history = model.fit(\n",
        "#     ds_train,\n",
        "#     validation_data=ds_valid,\n",
        "#     epochs=40,\n",
        "#     verbose=0\n",
        "# )"
      ],
      "metadata": {
        "id": "UCjrhN19s-wV"
      },
      "execution_count": 33,
      "outputs": []
    },
    {
      "cell_type": "code",
      "source": [
        "# create learning curves to evaluate model performance\n",
        "history_frame = pd.DataFrame(history.history)\n",
        "history_frame.loc[:, ['loss', 'val_loss']].plot()\n",
        "history_frame.loc[:, ['sparse_categorical_accuracy', 'val_sparse_categorical_accuracy']].plot();"
      ],
      "metadata": {
        "id": "yIKkQY5HrAuW",
        "colab": {
          "base_uri": "https://localhost:8080/",
          "height": 577
        },
        "outputId": "5128d1f2-53a3-470a-d172-69d68b798133"
      },
      "execution_count": 34,
      "outputs": [
        {
          "output_type": "display_data",
          "data": {
            "text/plain": [
              "<Figure size 432x288 with 1 Axes>"
            ],
            "image/png": "[encoded data removed]"
          },
          "metadata": {
            "needs_background": "light"
          }
        },
        {
          "output_type": "display_data",
          "data": {
            "text/plain": [
              "<Figure size 432x288 with 1 Axes>"
            ],
            "image/png": "[encoded data removed]"
          },
          "metadata": {
            "needs_background": "light"
          }
        }
      ]
    },
    {
      "cell_type": "code",
      "source": [
        "ds_test= image_dataset_from_directory(\n",
        "    '/content/folder',\n",
        "    # labels='inferred',\n",
        "    label_mode='int',\n",
        "    image_size=[128, 128],\n",
        "    interpolation='nearest',\n",
        "    batch_size=64,\n",
        "    shuffle=False\n",
        ")\n",
        "ds_test = (\n",
        "    ds_test\n",
        "    .map(convert_to_float)\n",
        "    .cache()\n",
        "    .prefetch(buffer_size=AUTOTUNE)\n",
        ")\n",
        "\n",
        "probabilities = model.predict(ds_test)\n",
        "print(probabilities)\n",
        "print(sum(probabilities[0]))"
      ],
      "metadata": {
        "colab": {
          "base_uri": "https://localhost:8080/"
        },
        "id": "ueY5pF_Hx1I9",
        "outputId": "93f89ac3-68a5-4a2b-e966-e932a47e616a"
      },
      "execution_count": 53,
      "outputs": [
        {
          "output_type": "stream",
          "name": "stdout",
          "text": [
            "Found 2 files belonging to 2 classes.\n",
            "[[1.1971517e-03 9.9805439e-01 7.4354262e-04 4.9738078e-06]\n",
            " [7.9201913e-05 7.5956859e-07 9.3279606e-01 6.7124017e-02]]\n",
            "1.0000000533395905\n"
          ]
        }
      ]
    },
    {
      "cell_type": "markdown",
      "source": [
        "\n",
        "\n",
        "\n",
        "---\n",
        "\n",
        "\n",
        "\n",
        "---\n",
        "\n",
        "\n",
        "---\n",
        "\n",
        "\n",
        "# Ideas that aren't being used at the moment"
      ],
      "metadata": {
        "id": "ZHpbzAWklOWU"
      }
    },
    {
      "cell_type": "code",
      "source": [
        "## Importing the images\n",
        "\n",
        "# train_image = []\n",
        "# for i in tqdm(range(train.shape[0])):\n",
        "#   img = image.load_img(\"/content/Apples_only/train/\"+train['ID'][i], target_size=(128,128,3))\n",
        "#   img = image.img_to_array(img)\n",
        "#   img = image/255\n",
        "#   train_image.append(img)\n",
        "\n",
        "# X = np.array(train_image)"
      ],
      "metadata": {
        "id": "lz6B_xunaEbr"
      },
      "execution_count": 35,
      "outputs": []
    },
    {
      "cell_type": "code",
      "source": [
        "# plt.imshow(X[2])"
      ],
      "metadata": {
        "id": "hpXtBrp9jv67"
      },
      "execution_count": 36,
      "outputs": []
    },
    {
      "cell_type": "code",
      "source": [
        "## Another method of importing the data\n",
        "# image_path = /content/Apples_only/train/\n",
        "\n",
        "# def create_dataset(img_folder):\n",
        "\n",
        "#   img_data_array = []\n",
        "#   class_name = []\n",
        "\n",
        "#   for dir1 in os.listdir(image_path):\n",
        "#     for file in os.listdir(os.paht.join(image_path, dir1)):\n",
        "\n",
        "#       image_path = os.path.join(image_path, dir1, file)\n",
        "#       image = cv2.imread(image_path, cv2.COLOR_BGR2RGB)\n",
        "#       image = cv2.resize(image, (128, 128), interpolation = cv2.INTER_AREA)\n",
        "#       image = np.array(image)\n",
        "#       image = image.astype('float32')\n",
        "#       image /= 255\n",
        "#       img_data_array.append(image)\n",
        "#       class_name.append(dir1)\n",
        "#   return img_data_array, class_name\n",
        "\n",
        "# img_data, class_name = create_dataset(/content/Apples_only/train_data)\n"
      ],
      "metadata": {
        "id": "VZH99WZak5Ng"
      },
      "execution_count": 37,
      "outputs": []
    },
    {
      "cell_type": "code",
      "source": [
        "###### Putting images into a dictionary of their class\n",
        "\n",
        "# scab_dir = root_dir + '/train/Scab'\n",
        "# black_rot_dir = root_dir + '/train/Black_rot'\n",
        "# rust_dir = root_dir + '/train/Rust'\n",
        "# healthy_dir = root_dir + '/train/Healthy'\n",
        "\n",
        "# # Get a list of all images\n",
        "# scab_images = scab_dir.glob('*.jpeg')\n",
        "# black_rot_images = black_rot_dir.glob('*.jpeg')\n",
        "# rust_images = rust_dir.glob('*.jpeg')\n",
        "# healthy_images = healthy_dir.glob('*.jpeg')\n",
        "\n",
        "# # Empty list to put each of the imgaes into with their class\n",
        "# train_data = []\n",
        "\n",
        "# for img in scab_images:\n",
        "#   train_data.append((img, 1))\n",
        "\n",
        "# for img in black_rot_images:\n",
        "#   train_data.append((img, 2))\n",
        "\n",
        "# for img in rust_images:\n",
        "#   train_data.append((img, 3))\n",
        "\n",
        "# for img in healthy_images:\n",
        "#   train_data.append((img, 4))"
      ],
      "metadata": {
        "id": "lWa7jQjwbygn"
      },
      "execution_count": 38,
      "outputs": []
    },
    {
      "cell_type": "code",
      "source": [
        "## Cell for showing an image from a dataset\n",
        "\n",
        "# image_path = '/content/Apples_only/train/Black_rot/0090d05d-d797-4c99-abd4-3b9cb323a5fd___JR_FrgE.S 8727.JPG'\n",
        "# image = tf.io.read_file(image_path)\n",
        "# image = tf.io.decode_jpeg(image)\n",
        "\n",
        "# plt.figure(figsize=(6, 6))\n",
        "# plt.imshow(tf.squeeze(image), cmap='gray')\n",
        "# plt.axis('off')\n",
        "# plt.show();\n",
        "\n",
        "# # Select dataframe from file structure\n",
        "# # df = /content/PlantVillage-Dataset/raw/color"
      ],
      "metadata": {
        "id": "GAsx-zueuexy"
      },
      "execution_count": 39,
      "outputs": []
    },
    {
      "cell_type": "code",
      "source": [
        "# train.head()"
      ],
      "metadata": {
        "id": "Sd3fMSiIgIPp"
      },
      "execution_count": 40,
      "outputs": []
    },
    {
      "cell_type": "code",
      "source": [
        "# # Set reproducability \n",
        "# def set_seed(seed=31415):\n",
        "#     np.random.seed(seed)\n",
        "#     tf.random.set_seed(seed)\n",
        "\n",
        "# set_seed(seed=31415)\n",
        "\n",
        "# # Load training and validation sets\n",
        "# ds_train_ = image_dataset_from_directory(\n",
        "#     '/content/Apples_only/train',\n",
        "#     labels='inferred',\n",
        "#     label_mode='categorical',\n",
        "#     image_size=[128, 128],\n",
        "#     interpolation='nearest',\n",
        "#     batch_size=64,\n",
        "#     shuffle=True,\n",
        "# )\n",
        "# ds_valid_ = image_dataset_from_directory(\n",
        "#     '/content/Apples_only/test',\n",
        "#     labels='inferred',\n",
        "#     label_mode='categorical',\n",
        "#     image_size=[128, 128],\n",
        "#     interpolation='nearest',\n",
        "#     batch_size=64,\n",
        "#     shuffle=False,\n",
        "# )\n",
        "\n",
        "# # Data Pipeline, converting images into tensors\n",
        "# def convert_to_float(image, label):\n",
        "#     image = tf.image.convert_image_dtype(image, dtype=tf.float32)\n",
        "#     return image, label\n",
        "\n",
        "# AUTOTUNE = tf.data.experimental.AUTOTUNE\n",
        "\n",
        "# ds_train = (\n",
        "#     ds_train_\n",
        "#     .map(convert_to_float)\n",
        "#     .cache()\n",
        "#     .prefetch(buffer_size=AUTOTUNE)\n",
        "# )\n",
        "# ds_valid = (\n",
        "#     ds_valid_\n",
        "#     .map(convert_to_float)\n",
        "#     .cache()\n",
        "#     .prefetch(buffer_size=AUTOTUNE)\n",
        "# )\n",
        "\n"
      ],
      "metadata": {
        "id": "uKpuJtzYuRGP"
      },
      "execution_count": 41,
      "outputs": []
    }
  ]
}